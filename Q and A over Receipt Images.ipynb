{
 "cells": [
  {
   "cell_type": "code",
   "execution_count": 1,
   "id": "f185c7f6",
   "metadata": {},
   "outputs": [],
   "source": [
    "#!pip install openai\n",
    "import openai"
   ]
  },
  {
   "cell_type": "code",
   "execution_count": 2,
   "id": "24909b02",
   "metadata": {},
   "outputs": [],
   "source": [
    "#import os\n",
    "\n",
    "# Load your API key from an environment variable or secret management service\n",
    "openai.api_key = \"\"\n",
    "\n",
    "chat_completion = openai.ChatCompletion.create(model=\"gpt-3.5-turbo\", messages=[{\"role\": \"user\", \"content\": \"Hello world\"}])"
   ]
  },
  {
   "cell_type": "code",
   "execution_count": 3,
   "id": "5cdce1a2",
   "metadata": {},
   "outputs": [],
   "source": [
    "from llama_index import SimpleDirectoryReader, VectorStoreIndex\n",
    "from llama_index.readers.file.base import (\n",
    "    DEFAULT_FILE_READER_CLS,\n",
    "    ImageReader,\n",
    ")\n",
    "from llama_index.response.notebook_utils import (\n",
    "    display_response,\n",
    "    display_image\n",
    ")\n",
    "from llama_index.indices.query.query_transform.base import (\n",
    "    ImageOutputQueryTransform,\n",
    ")"
   ]
  },
  {
   "cell_type": "code",
   "execution_count": 4,
   "id": "6c794721",
   "metadata": {},
   "outputs": [
    {
     "name": "stdout",
     "output_type": "stream",
     "text": [
      "<function <lambda> at 0x00000296B18B4040>\n"
     ]
    }
   ],
   "source": [
    "# NOTE: we add filename as metadata for all documents\n",
    "filename_fn = lambda filename: {\"filename\": filename}\n",
    "print(filename_fn)"
   ]
  },
  {
   "cell_type": "code",
   "execution_count": 5,
   "id": "31ca2b33",
   "metadata": {},
   "outputs": [
    {
     "name": "stderr",
     "output_type": "stream",
     "text": [
      "Could not find image processor class in the image processor config or the model config. Loading based on pattern matching with the model's feature extractor configuration.\n"
     ]
    }
   ],
   "source": [
    "#!pip install torch transformers sentencepiece Pillow\n",
    "\n",
    "receipt_reader = SimpleDirectoryReader(\n",
    "    input_dir=\"C:/Users/ADMIN/jupyter\",\n",
    "    file_metadata=filename_fn,\n",
    ")\n",
    "receipt_documents = receipt_reader.load_data()"
   ]
  },
  {
   "cell_type": "code",
   "execution_count": 6,
   "id": "6d0a9a69",
   "metadata": {},
   "outputs": [],
   "source": [
    "receipts_index = VectorStoreIndex.from_documents(receipt_documents)"
   ]
  },
  {
   "cell_type": "code",
   "execution_count": 15,
   "id": "4a9b359d",
   "metadata": {},
   "outputs": [],
   "source": [
    "from llama_index.query_engine import TransformQueryEngine\n",
    "\n",
    "query_engine = receipts_index.as_query_engine()\n",
    "query_engine = TransformQueryEngine(\n",
    "    query_engine, query_transform=ImageOutputQueryTransform(width=400)\n",
    ")\n",
    "receipts_response = query_engine.query(\n",
    "    \"When was the last time I went to McDonald's and how much did I spend?\",\n",
    ")"
   ]
  },
  {
   "cell_type": "code",
   "execution_count": 16,
   "id": "baf235bd",
   "metadata": {},
   "outputs": [
    {
     "data": {
      "text/markdown": [
       "**`Final Response:`** 0:\n",
       "I went to McDonald's on 03/10/2018 at 07:39:12 PM. I spent a total of $26.15."
      ],
      "text/plain": [
       "<IPython.core.display.Markdown object>"
      ]
     },
     "metadata": {},
     "output_type": "display_data"
    }
   ],
   "source": [
    "display_response(receipts_response)"
   ]
  }
 ],
 "metadata": {
  "kernelspec": {
   "display_name": "Python 3 (ipykernel)",
   "language": "python",
   "name": "python3"
  },
  "language_info": {
   "codemirror_mode": {
    "name": "ipython",
    "version": 3
   },
   "file_extension": ".py",
   "mimetype": "text/x-python",
   "name": "python",
   "nbconvert_exporter": "python",
   "pygments_lexer": "ipython3",
   "version": "3.11.5"
  }
 },
 "nbformat": 4,
 "nbformat_minor": 5
}
